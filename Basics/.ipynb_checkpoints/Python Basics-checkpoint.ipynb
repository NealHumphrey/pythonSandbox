{
 "cells": [
  {
   "cell_type": "markdown",
   "metadata": {},
   "source": [
    "# Python Basics\n"
   ]
  },
  {
   "cell_type": "markdown",
   "metadata": {},
   "source": [
    "### Variable Declaration\n",
    "\n",
    "Variables do not need to be declared, and are dynamically typed. Just assign the variable:"
   ]
  },
  {
   "cell_type": "code",
   "execution_count": 4,
   "metadata": {
    "collapsed": false
   },
   "outputs": [
    {
     "name": "stdout",
     "output_type": "stream",
     "text": [
      "1\n",
      "my string\n",
      "(0, 1, 2)\n"
     ]
    }
   ],
   "source": [
    "test = 1\n",
    "print(test)\n",
    "test = \"my string\"\n",
    "print(test)\n",
    "test = (0,1,2)\n",
    "print(test)"
   ]
  },
  {
   "cell_type": "markdown",
   "metadata": {},
   "source": [
    "### Comments\n",
    "Single '#' sign, continues to end of line."
   ]
  },
  {
   "cell_type": "code",
   "execution_count": 16,
   "metadata": {
    "collapsed": true
   },
   "outputs": [],
   "source": [
    "# Hi I'm a comment\n",
    "variable = 100  #so am I!"
   ]
  },
  {
   "cell_type": "markdown",
   "metadata": {},
   "source": [
    "### Mutability\n",
    "* Values are immutable - assigning a new value or things like a = b makes a copy\n",
    "* Lists are kind of mutable. Changing the values of the list (+=) changes it everywhere. Reassigning leaves behind the shadow copy on the other variable."
   ]
  },
  {
   "cell_type": "code",
   "execution_count": 13,
   "metadata": {
    "collapsed": false
   },
   "outputs": [
    {
     "name": "stdout",
     "output_type": "stream",
     "text": [
      "2\n",
      "1\n"
     ]
    }
   ],
   "source": [
    "a = 1 \n",
    "b = a\n",
    "a = 2\n",
    "print(a)\n",
    "print(b)"
   ]
  },
  {
   "cell_type": "code",
   "execution_count": 14,
   "metadata": {
    "collapsed": false
   },
   "outputs": [
    {
     "name": "stdout",
     "output_type": "stream",
     "text": [
      "hi friend\n",
      "hi\n"
     ]
    }
   ],
   "source": [
    "# Strings: += doesn't alter the value, it changes where it points\n",
    "a = \"hi\"\n",
    "b = a\n",
    "a += \" friend\"\n",
    "print(a)\n",
    "print(b)"
   ]
  },
  {
   "cell_type": "code",
   "execution_count": 15,
   "metadata": {
    "collapsed": false
   },
   "outputs": [
    {
     "name": "stdout",
     "output_type": "stream",
     "text": [
      "[0, 1, 2, 4]\n",
      "[0, 1, 2, 4]\n",
      "[0, 1, 2, 3, 4, 5]\n",
      "[0, 1, 2, 4]\n"
     ]
    }
   ],
   "source": [
    "# Lists: += alters the value and all pointers to it\n",
    "a = [0,1,2]\n",
    "b = a\n",
    "a += [4]\n",
    "print(a)\n",
    "print(b)\n",
    "\n",
    "# Lists: but, reassigning behaves like other variables\n",
    "a = [0,1,2,3,4,5]\n",
    "print(a)\n",
    "print(b)\n"
   ]
  },
  {
   "cell_type": "markdown",
   "metadata": {},
   "source": [
    "### Type conversion\n",
    "int() : converts to integer (chops off decimal of floating, parses string but can't deal with comma/decimals)\n",
    "float(): converts to float, can't deal with comma in string\n",
    "str() : convert to string\n",
    "\n",
    "### Operations on Strings\n",
    "'+' is used to concatenate. '*' performs repetition"
   ]
  },
  {
   "cell_type": "code",
   "execution_count": 27,
   "metadata": {
    "collapsed": false
   },
   "outputs": [
    {
     "name": "stdout",
     "output_type": "stream",
     "text": [
      "firstlast\n",
      "firstfirstfirst\n"
     ]
    }
   ],
   "source": [
    "print('first' + 'last')\n",
    "print('first'*3)"
   ]
  },
  {
   "cell_type": "markdown",
   "metadata": {},
   "source": [
    "### Math\n",
    "start with:\n",
    "'>>>import math\n",
    "\n",
    "math.sin() #cos, tan\n",
    "math.sqrt() \n",
    "math.log10()\n",
    "math.pi"
   ]
  },
  {
   "cell_type": "code",
   "execution_count": null,
   "metadata": {
    "collapsed": true
   },
   "outputs": [],
   "source": []
  }
 ],
 "metadata": {
  "kernelspec": {
   "display_name": "Python 3",
   "language": "python",
   "name": "python3"
  },
  "language_info": {
   "codemirror_mode": {
    "name": "ipython",
    "version": 3
   },
   "file_extension": ".py",
   "mimetype": "text/x-python",
   "name": "python",
   "nbconvert_exporter": "python",
   "pygments_lexer": "ipython3",
   "version": "3.5.1"
  }
 },
 "nbformat": 4,
 "nbformat_minor": 0
}
