{
 "cells": [
  {
   "cell_type": "markdown",
   "metadata": {},
   "source": [
    "# Python Basics\n"
   ]
  },
  {
   "cell_type": "markdown",
   "metadata": {},
   "source": [
    "### Variable Declaration\n",
    "\n",
    "Variables do not need to be declared, and are dynamically typed. Just assign the variable:"
   ]
  },
  {
   "cell_type": "code",
   "execution_count": 4,
   "metadata": {
    "collapsed": false
   },
   "outputs": [
    {
     "name": "stdout",
     "output_type": "stream",
     "text": [
      "1\n",
      "my string\n",
      "(0, 1, 2)\n"
     ]
    }
   ],
   "source": [
    "test = 1\n",
    "print(test)\n",
    "test = \"my string\"\n",
    "print(test)\n",
    "test = (0,1,2)\n",
    "print(test)"
   ]
  },
  {
   "cell_type": "markdown",
   "metadata": {},
   "source": [
    "### Comments\n",
    "Single '#' sign, continues to end of line."
   ]
  },
  {
   "cell_type": "code",
   "execution_count": 16,
   "metadata": {
    "collapsed": true
   },
   "outputs": [],
   "source": [
    "# Hi I'm a comment\n",
    "variable = 100  #so am I!"
   ]
  },
  {
   "cell_type": "markdown",
   "metadata": {},
   "source": [
    "### Mutability\n",
    "* Values are immutable - assigning a new value or things like a = b makes a copy\n",
    "* Lists are kind of mutable. Changing the values of the list (+=) changes it everywhere. Reassigning leaves behind the shadow copy on the other variable."
   ]
  },
  {
   "cell_type": "code",
   "execution_count": 13,
   "metadata": {
    "collapsed": false
   },
   "outputs": [
    {
     "name": "stdout",
     "output_type": "stream",
     "text": [
      "2\n",
      "1\n"
     ]
    }
   ],
   "source": [
    "a = 1 \n",
    "b = a\n",
    "a = 2\n",
    "print(a)\n",
    "print(b)"
   ]
  },
  {
   "cell_type": "code",
   "execution_count": 14,
   "metadata": {
    "collapsed": false
   },
   "outputs": [
    {
     "name": "stdout",
     "output_type": "stream",
     "text": [
      "hi friend\n",
      "hi\n"
     ]
    }
   ],
   "source": [
    "# Strings: += doesn't alter the value, it changes where it points\n",
    "a = \"hi\"\n",
    "b = a\n",
    "a += \" friend\"\n",
    "print(a)\n",
    "print(b)"
   ]
  },
  {
   "cell_type": "code",
   "execution_count": 15,
   "metadata": {
    "collapsed": false
   },
   "outputs": [
    {
     "name": "stdout",
     "output_type": "stream",
     "text": [
      "[0, 1, 2, 4]\n",
      "[0, 1, 2, 4]\n",
      "[0, 1, 2, 3, 4, 5]\n",
      "[0, 1, 2, 4]\n"
     ]
    }
   ],
   "source": [
    "# Lists: += alters the value and all pointers to it\n",
    "a = [0,1,2]\n",
    "b = a\n",
    "a += [4]\n",
    "print(a)\n",
    "print(b)\n",
    "\n",
    "# Lists: but, reassigning behaves like other variables\n",
    "a = [0,1,2,3,4,5]\n",
    "print(a)\n",
    "print(b)\n"
   ]
  },
  {
   "cell_type": "markdown",
   "metadata": {},
   "source": [
    "### Type conversion\n",
    "int() : converts to integer (chops off decimal of floating, parses string but can't deal with comma/decimals)\n",
    "float(): converts to float, can't deal with comma in string\n",
    "str() : convert to string\n",
    "\n",
    "### Operations on Strings\n",
    "'+' is used to concatenate. '*' performs repetition"
   ]
  },
  {
   "cell_type": "code",
   "execution_count": 27,
   "metadata": {
    "collapsed": false
   },
   "outputs": [
    {
     "name": "stdout",
     "output_type": "stream",
     "text": [
      "firstlast\n",
      "firstfirstfirst\n"
     ]
    }
   ],
   "source": [
    "print('first' + 'last')\n",
    "print('first'*3)"
   ]
  },
  {
   "cell_type": "markdown",
   "metadata": {},
   "source": [
    "### Math\n",
    "start with:\n",
    "'>>>import math\n",
    "\n",
    "math.sin() #cos, tan\n",
    "math.sqrt() \n",
    "math.log10()\n",
    "math.pi"
   ]
  },
  {
   "cell_type": "markdown",
   "metadata": {},
   "source": [
    "\n",
    "\n",
    "\n",
    "\n",
    "## Functions\n",
    "* def keyword defines a function. \n",
    "* Variable name ends in () or (param_variable_name,other_param). \n",
    "* end with colon ':'\n",
    "* function is indented; use a new line to designate the end of the function\n"
   ]
  },
  {
   "cell_type": "code",
   "execution_count": 28,
   "metadata": {
    "collapsed": false
   },
   "outputs": [
    {
     "name": "stdout",
     "output_type": "stream",
     "text": [
      "That's all folks!\n"
     ]
    }
   ],
   "source": [
    "def my_function():\n",
    "    print(\"That's all folks!\")\n",
    "\n",
    "my_function()"
   ]
  },
  {
   "cell_type": "markdown",
   "metadata": {},
   "source": [
    "You can exit a function by calling `return`\n",
    "\n",
    "`return my_variable` of course returns the variable value to the calling function on exit"
   ]
  },
  {
   "cell_type": "markdown",
   "metadata": {
    "collapsed": true
   },
   "source": [
    "## Indentation\n",
    "\n",
    "Indentation indicates what code lies within functions (as well as if statements, while loops, etc.) instead of pairs of () or {}. Every function must have something in the indented code. `pass` is a do-nothing command that can be used for this purpose."
   ]
  },
  {
   "cell_type": "code",
   "execution_count": 2,
   "metadata": {
    "collapsed": false
   },
   "outputs": [
    {
     "ename": "SyntaxError",
     "evalue": "unexpected EOF while parsing (<ipython-input-2-48738ff3be88>, line 4)",
     "output_type": "error",
     "traceback": [
      "\u001b[1;36m  File \u001b[1;32m\"<ipython-input-2-48738ff3be88>\"\u001b[1;36m, line \u001b[1;32m4\u001b[0m\n\u001b[1;33m    def error_causing_function():\u001b[0m\n\u001b[1;37m                                 ^\u001b[0m\n\u001b[1;31mSyntaxError\u001b[0m\u001b[1;31m:\u001b[0m unexpected EOF while parsing\n"
     ]
    }
   ],
   "source": [
    "def useless_function():\n",
    "    pass\n",
    "\n",
    "def error_causing_function():"
   ]
  },
  {
   "cell_type": "markdown",
   "metadata": {},
   "source": [
    "# Conditionals\n",
    "If statements: `if x > y:`\n",
    "\n",
    "else: `else:`\n",
    "\n",
    "else if: `elif x = 0:`\n",
    "\n",
    "and: `if x > y and z = 0:`\n",
    "\n",
    "or:  `if x < y or z != 0:`\n",
    "\n",
    "\n",
    "between:    `if 0 < x and x < 10:` \n",
    "\n",
    "            `if 0 < x < 10:  #does the same thing`\n",
    "            \n"
   ]
  },
  {
   "cell_type": "markdown",
   "metadata": {},
   "source": [
    "### Command line input\n",
    "```\n",
    "text = input()  #python3\n",
    "text = raw_input()  #python2\n",
    "\n",
    "text = input('What do you want?\\n')  #\\n creates a new line\n",
    "\n",
    "answer = input('How many eggs?\\n')   #returns a string \n",
    "egg_count = int(answer)  #we can use int() to parse the int, but will need to handle the error if there's a bad input\n",
    "```"
   ]
  },
  {
   "cell_type": "code",
   "execution_count": 4,
   "metadata": {
    "collapsed": false
   },
   "outputs": [
    {
     "ename": "Exception",
     "evalue": "whoops!",
     "output_type": "error",
     "traceback": [
      "\u001b[1;31m---------------------------------------------------------------------------\u001b[0m",
      "\u001b[1;31mException\u001b[0m                                 Traceback (most recent call last)",
      "\u001b[1;32m<ipython-input-4-b9e66c1fa15b>\u001b[0m in \u001b[0;36m<module>\u001b[1;34m()\u001b[0m\n\u001b[0;32m      1\u001b[0m \u001b[1;31m# Errors\u001b[0m\u001b[1;33m\u001b[0m\u001b[1;33m\u001b[0m\u001b[0m\n\u001b[1;32m----> 2\u001b[1;33m \u001b[1;32mraise\u001b[0m \u001b[0mException\u001b[0m\u001b[1;33m(\u001b[0m\u001b[1;34m'whoops!'\u001b[0m\u001b[1;33m)\u001b[0m \u001b[1;31m# raises custom error with 'whoops!' argument. Doesn't need defining.\u001b[0m\u001b[1;33m\u001b[0m\u001b[0m\n\u001b[0m\u001b[0;32m      3\u001b[0m \u001b[1;33m\u001b[0m\u001b[0m\n\u001b[0;32m      4\u001b[0m \u001b[1;32mraise\u001b[0m \u001b[0mMyError\u001b[0m\u001b[1;33m(\u001b[0m\u001b[1;34m'damn!'\u001b[0m\u001b[1;33m)\u001b[0m  \u001b[1;31m#Raises a custom error with the 'damn!' argument. Must be defined as a sub-class of the Exception object\u001b[0m\u001b[1;33m\u001b[0m\u001b[0m\n\u001b[0;32m      5\u001b[0m \u001b[1;33m\u001b[0m\u001b[0m\n",
      "\u001b[1;31mException\u001b[0m: whoops!"
     ]
    }
   ],
   "source": [
    "# Errors\n",
    "raise Exception('whoops!') # raises custom error with 'whoops!' argument. Doesn't need defining. \n",
    "\n",
    "raise MyError('damn!')  #Raises a custom error with the 'damn!' argument. Must be defined as a sub-class of the Exception object\n",
    "\n",
    "raise Exception(arg1,arg2) #Can also do multiple arguments\n",
    "\n",
    "try: \n",
    "    my_code()\n",
    "except ValueError:\n",
    "    print(\"there was a value error!\")\n",
    "    raise #re-raises the same exception (i.e. to pass it back up the calling stack). \n",
    "          #Good example - print the current iteration of i if error is raised mid-loop\n",
    "        \n",
    "else:\n",
    "    print('hmm')\n",
    "    #code continues despite errror (I think...)"
   ]
  },
  {
   "cell_type": "code",
   "execution_count": null,
   "metadata": {
    "collapsed": true
   },
   "outputs": [],
   "source": []
  }
 ],
 "metadata": {
  "kernelspec": {
   "display_name": "Python 3",
   "language": "python",
   "name": "python3"
  },
  "language_info": {
   "codemirror_mode": {
    "name": "ipython",
    "version": 3
   },
   "file_extension": ".py",
   "mimetype": "text/x-python",
   "name": "python",
   "nbconvert_exporter": "python",
   "pygments_lexer": "ipython3",
   "version": "3.5.1"
  }
 },
 "nbformat": 4,
 "nbformat_minor": 0
}
