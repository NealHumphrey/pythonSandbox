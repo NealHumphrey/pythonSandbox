{
 "cells": [
  {
   "cell_type": "code",
   "execution_count": 2,
   "metadata": {
    "collapsed": false
   },
   "outputs": [
    {
     "name": "stdout",
     "output_type": "stream",
     "text": [
      "                                                       hey there fella\n",
      "                                             bam I just made this work\n"
     ]
    }
   ],
   "source": [
    "# Exercise 3.1 - function that takes a string and prints string with enough spaces to right justify with column of 70\n",
    "\n",
    "def right_justify(string):\n",
    "    col_char_count = 70    #total size of the column\n",
    "    string_char_count = len(string)\n",
    "    leading_space = \" \"*(col_char_count - string_char_count)\n",
    "    print(leading_space+string)\n",
    "\n",
    "right_justify(\"hey there fella\")\n",
    "right_justify(\"bam I just made this work\")\n"
   ]
  },
  {
   "cell_type": "code",
   "execution_count": 8,
   "metadata": {
    "collapsed": false
   },
   "outputs": [
    {
     "name": "stdout",
     "output_type": "stream",
     "text": [
      "yo\n",
      "yo\n",
      "yo\n",
      "yo\n",
      "howdy\n",
      "howdy\n",
      "howdy\n",
      "howdy\n",
      "howdy\n",
      "howdy\n",
      "ten\n",
      "ten\n",
      "ten\n",
      "ten\n",
      "ten\n",
      "ten\n",
      "ten\n",
      "ten\n",
      "ten\n",
      "ten\n"
     ]
    }
   ],
   "source": [
    "def do_four(function, arg):\n",
    "    for i in range(4):\n",
    "        function(arg)\n",
    "\n",
    "def do_many(function, arg, times):\n",
    "    for i in range(times):\n",
    "        function(arg)        \n",
    "        \n",
    "def reprint(string):\n",
    "    print(string)\n",
    "    \n",
    "do_four(reprint,'yo')\n",
    "\n",
    "do_many(reprint,\"howdy\",6)\n",
    "do_many(reprint,\"ten\",10)"
   ]
  },
  {
   "cell_type": "code",
   "execution_count": 22,
   "metadata": {
    "collapsed": false
   },
   "outputs": [
    {
     "name": "stdout",
     "output_type": "stream",
     "text": [
      "+----+----+\n",
      "/    /    /\n",
      "/    /    /\n",
      "/    /    /\n",
      "/    /    /\n",
      "+----+----+\n",
      "/    /    /\n",
      "/    /    /\n",
      "/    /    /\n",
      "/    /    /\n",
      "+----+----+\n",
      "\n",
      "\n",
      "+------+------+------+------+\n",
      "/      /      /      /      /\n",
      "/      /      /      /      /\n",
      "/      /      /      /      /\n",
      "/      /      /      /      /\n",
      "/      /      /      /      /\n",
      "/      /      /      /      /\n",
      "+------+------+------+------+\n",
      "/      /      /      /      /\n",
      "/      /      /      /      /\n",
      "/      /      /      /      /\n",
      "/      /      /      /      /\n",
      "/      /      /      /      /\n",
      "/      /      /      /      /\n",
      "+------+------+------+------+\n",
      "/      /      /      /      /\n",
      "/      /      /      /      /\n",
      "/      /      /      /      /\n",
      "/      /      /      /      /\n",
      "/      /      /      /      /\n",
      "/      /      /      /      /\n",
      "+------+------+------+------+\n",
      "/      /      /      /      /\n",
      "/      /      /      /      /\n",
      "/      /      /      /      /\n",
      "/      /      /      /      /\n",
      "/      /      /      /      /\n",
      "/      /      /      /      /\n",
      "+------+------+------+------+\n"
     ]
    }
   ],
   "source": [
    "# Exercise 3.3 - print a grid\n",
    "\n",
    "def printGrid(columns, rows, size=4):\n",
    "    \n",
    "    output = \"\"\n",
    "\n",
    "    rowDivider = \"+\" + '-' * size\n",
    "    columnDivider = \"/\" + ' ' * size\n",
    "    rowEnd = \"+\"\n",
    "    colEnd = \"/\"\n",
    "    \n",
    "    for r in range(rows):\n",
    "        #print first row divider\n",
    "        for c in range(columns):\n",
    "            output += rowDivider\n",
    "\n",
    "        output += rowEnd\n",
    "        output += '\\n'\n",
    "        \n",
    "        #Add the cell body\n",
    "        for s in range(size):\n",
    "            for c in range(columns):\n",
    "                output += columnDivider\n",
    "\n",
    "            output +=colEnd\n",
    "            output += '\\n'\n",
    "        \n",
    "    #print final row divider\n",
    "    for c in range(columns):\n",
    "        output += rowDivider\n",
    "\n",
    "    output += rowEnd\n",
    "    \n",
    "    print(output)\n",
    "    \n",
    "printGrid(2,2)\n",
    "print('\\n')\n",
    "printGrid(4,4,6)\n",
    "    \n",
    "    "
   ]
  },
  {
   "cell_type": "code",
   "execution_count": 21,
   "metadata": {
    "collapsed": false
   },
   "outputs": [
    {
     "name": "stdout",
     "output_type": "stream",
     "text": [
      "false\n",
      "could be\n",
      "yo\n"
     ]
    }
   ],
   "source": [
    "def first(word):\n",
    "    return word[0]\n",
    "def last(word):\n",
    "    return word[-1]\n",
    "def middle(word):\n",
    "    return word[1:-1]\n",
    "\n",
    "def is_palindrome(word):\n",
    "    #blank words are palindromes - allows recursion\n",
    "    if len(word) == 0 or len(word) == 1:\n",
    "        print('true')\n",
    "        return True\n",
    "    \n",
    "    first = word[0]\n",
    "    last = word[-1]\n",
    "    if first == last:\n",
    "        middle = word[1:-1]\n",
    "        print('could be')\n",
    "        is_palindrome(middle)\n",
    "    else:\n",
    "        print('false')\n",
    "        return False\n",
    "    \n",
    "is_palindrome('nean')\n",
    "print('yo')\n"
   ]
  },
  {
   "cell_type": "code",
   "execution_count": null,
   "metadata": {
    "collapsed": true
   },
   "outputs": [],
   "source": []
  }
 ],
 "metadata": {
  "kernelspec": {
   "display_name": "Python 3",
   "language": "python",
   "name": "python3"
  },
  "language_info": {
   "codemirror_mode": {
    "name": "ipython",
    "version": 3
   },
   "file_extension": ".py",
   "mimetype": "text/x-python",
   "name": "python",
   "nbconvert_exporter": "python",
   "pygments_lexer": "ipython3",
   "version": "3.5.1"
  }
 },
 "nbformat": 4,
 "nbformat_minor": 0
}
