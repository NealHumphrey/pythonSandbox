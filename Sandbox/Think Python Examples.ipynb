{
 "cells": [
  {
   "cell_type": "code",
   "execution_count": 2,
   "metadata": {
    "collapsed": false
   },
   "outputs": [
    {
     "name": "stdout",
     "output_type": "stream",
     "text": [
      "                                                       hey there fella\n",
      "                                             bam I just made this work\n"
     ]
    }
   ],
   "source": [
    "# Exercise 3.1 - function that takes a string and prints string with enough spaces to right justify with column of 70\n",
    "\n",
    "def right_justify(string):\n",
    "    col_char_count = 70    #total size of the column\n",
    "    string_char_count = len(string)\n",
    "    leading_space = \" \"*(col_char_count - string_char_count)\n",
    "    print(leading_space+string)\n",
    "\n",
    "right_justify(\"hey there fella\")\n",
    "right_justify(\"bam I just made this work\")\n"
   ]
  },
  {
   "cell_type": "code",
   "execution_count": 8,
   "metadata": {
    "collapsed": false
   },
   "outputs": [
    {
     "name": "stdout",
     "output_type": "stream",
     "text": [
      "yo\n",
      "yo\n",
      "yo\n",
      "yo\n",
      "howdy\n",
      "howdy\n",
      "howdy\n",
      "howdy\n",
      "howdy\n",
      "howdy\n",
      "ten\n",
      "ten\n",
      "ten\n",
      "ten\n",
      "ten\n",
      "ten\n",
      "ten\n",
      "ten\n",
      "ten\n",
      "ten\n"
     ]
    }
   ],
   "source": [
    "def do_four(function, arg):\n",
    "    for i in range(4):\n",
    "        function(arg)\n",
    "\n",
    "def do_many(function, arg, times):\n",
    "    for i in range(times):\n",
    "        function(arg)        \n",
    "        \n",
    "def reprint(string):\n",
    "    print(string)\n",
    "    \n",
    "do_four(reprint,'yo')\n",
    "\n",
    "do_many(reprint,\"howdy\",6)\n",
    "do_many(reprint,\"ten\",10)"
   ]
  },
  {
   "cell_type": "code",
   "execution_count": 22,
   "metadata": {
    "collapsed": false
   },
   "outputs": [
    {
     "name": "stdout",
     "output_type": "stream",
     "text": [
      "+----+----+\n",
      "/    /    /\n",
      "/    /    /\n",
      "/    /    /\n",
      "/    /    /\n",
      "+----+----+\n",
      "/    /    /\n",
      "/    /    /\n",
      "/    /    /\n",
      "/    /    /\n",
      "+----+----+\n",
      "\n",
      "\n",
      "+------+------+------+------+\n",
      "/      /      /      /      /\n",
      "/      /      /      /      /\n",
      "/      /      /      /      /\n",
      "/      /      /      /      /\n",
      "/      /      /      /      /\n",
      "/      /      /      /      /\n",
      "+------+------+------+------+\n",
      "/      /      /      /      /\n",
      "/      /      /      /      /\n",
      "/      /      /      /      /\n",
      "/      /      /      /      /\n",
      "/      /      /      /      /\n",
      "/      /      /      /      /\n",
      "+------+------+------+------+\n",
      "/      /      /      /      /\n",
      "/      /      /      /      /\n",
      "/      /      /      /      /\n",
      "/      /      /      /      /\n",
      "/      /      /      /      /\n",
      "/      /      /      /      /\n",
      "+------+------+------+------+\n",
      "/      /      /      /      /\n",
      "/      /      /      /      /\n",
      "/      /      /      /      /\n",
      "/      /      /      /      /\n",
      "/      /      /      /      /\n",
      "/      /      /      /      /\n",
      "+------+------+------+------+\n"
     ]
    }
   ],
   "source": [
    "# Exercise 3.3 - print a grid\n",
    "\n",
    "def printGrid(columns, rows, size=4):\n",
    "    \n",
    "    output = \"\"\n",
    "\n",
    "    rowDivider = \"+\" + '-' * size\n",
    "    columnDivider = \"/\" + ' ' * size\n",
    "    rowEnd = \"+\"\n",
    "    colEnd = \"/\"\n",
    "    \n",
    "    for r in range(rows):\n",
    "        #print first row divider\n",
    "        for c in range(columns):\n",
    "            output += rowDivider\n",
    "\n",
    "        output += rowEnd\n",
    "        output += '\\n'\n",
    "        \n",
    "        #Add the cell body\n",
    "        for s in range(size):\n",
    "            for c in range(columns):\n",
    "                output += columnDivider\n",
    "\n",
    "            output +=colEnd\n",
    "            output += '\\n'\n",
    "        \n",
    "    #print final row divider\n",
    "    for c in range(columns):\n",
    "        output += rowDivider\n",
    "\n",
    "    output += rowEnd\n",
    "    \n",
    "    print(output)\n",
    "    \n",
    "printGrid(2,2)\n",
    "print('\\n')\n",
    "printGrid(4,4,6)\n",
    "    \n",
    "    "
   ]
  },
  {
   "cell_type": "code",
   "execution_count": 35,
   "metadata": {
    "collapsed": false
   },
   "outputs": [
    {
     "name": "stdout",
     "output_type": "stream",
     "text": [
      "could be\n",
      "could be\n",
      "could be\n",
      "true\n"
     ]
    }
   ],
   "source": [
    "def first(word):\n",
    "    return word[0]\n",
    "def last(word):\n",
    "    return word[-1]\n",
    "def middle(word):\n",
    "    return word[1:-1]\n",
    "\n",
    "def is_palindrome(word):\n",
    "    word = str(word)\n",
    "    \n",
    "    #blank words are palindromes - allows recursion\n",
    "    if len(word) == 0 or len(word) == 1:\n",
    "        print('true')\n",
    "        return True\n",
    "    \n",
    "    first = word[0]\n",
    "    last = word[-1]\n",
    "    if first == last:\n",
    "        middle = word[1:-1]\n",
    "        print('could be')\n",
    "        is_palindrome(middle)\n",
    "    else:\n",
    "        print('false')\n",
    "        return False\n",
    "    \n",
    "is_palindrome(200002)\n"
   ]
  },
  {
   "cell_type": "code",
   "execution_count": 4,
   "metadata": {
    "collapsed": false
   },
   "outputs": [
    {
     "name": "stdout",
     "output_type": "stream",
     "text": [
      "14.285714285714286\n"
     ]
    }
   ],
   "source": [
    "width = 21 % 7 + 1*(100/7)\n",
    "print(width)"
   ]
  },
  {
   "cell_type": "code",
   "execution_count": 5,
   "metadata": {
    "collapsed": false
   },
   "outputs": [
    {
     "data": {
      "text/plain": [
       "100.0"
      ]
     },
     "execution_count": 5,
     "metadata": {},
     "output_type": "execute_result"
    }
   ],
   "source": [
    "7*width\n"
   ]
  },
  {
   "cell_type": "code",
   "execution_count": 19,
   "metadata": {
    "collapsed": false
   },
   "outputs": [
    {
     "name": "stdout",
     "output_type": "stream",
     "text": [
      "starting i\n",
      "184\n",
      "193\n",
      "192\n",
      "214\n",
      "227\n",
      "179\n",
      "186\n",
      "170\n",
      "195\n",
      "212\n",
      "257\n",
      "starting i\n",
      "193\n",
      "202\n",
      "201\n",
      "223\n",
      "236\n",
      "188\n",
      "195\n",
      "179\n",
      "204\n",
      "221\n",
      "266\n",
      "starting i\n",
      "192\n",
      "201\n",
      "200\n",
      "222\n",
      "235\n",
      "187\n",
      "194\n",
      "178\n",
      "203\n",
      "220\n",
      "265\n",
      "starting i\n",
      "214\n",
      "223\n",
      "222\n",
      "244\n",
      "257\n",
      "209\n",
      "216\n",
      "200\n",
      "225\n",
      "242\n",
      "287\n",
      "starting i\n",
      "227\n",
      "236\n",
      "235\n",
      "257\n",
      "270\n",
      "222\n",
      "229\n",
      "213\n",
      "238\n",
      "255\n",
      "300\n",
      "starting i\n",
      "179\n",
      "188\n",
      "187\n",
      "209\n",
      "222\n",
      "174\n",
      "181\n",
      "165\n",
      "190\n",
      "207\n",
      "252\n",
      "starting i\n",
      "186\n",
      "195\n",
      "194\n",
      "216\n",
      "229\n",
      "181\n",
      "188\n",
      "172\n",
      "197\n",
      "214\n",
      "259\n",
      "starting i\n",
      "170\n",
      "179\n",
      "178\n",
      "200\n",
      "213\n",
      "165\n",
      "172\n",
      "156\n",
      "181\n",
      "198\n",
      "243\n",
      "starting i\n",
      "195\n",
      "204\n",
      "203\n",
      "225\n",
      "238\n",
      "190\n",
      "197\n",
      "181\n",
      "206\n",
      "223\n",
      "268\n",
      "starting i\n",
      "212\n",
      "221\n",
      "220\n",
      "242\n",
      "255\n",
      "207\n",
      "214\n",
      "198\n",
      "223\n",
      "240\n",
      "285\n",
      "starting i\n",
      "257\n",
      "266\n",
      "265\n",
      "287\n",
      "300\n",
      "252\n",
      "259\n",
      "243\n",
      "268\n",
      "285\n",
      "330\n",
      "False\n"
     ]
    }
   ],
   "source": [
    "def my_function(flight_length, movie_lengths):\n",
    "    sumtime = 0\n",
    "    for i, movie in enumerate(movie_lengths):\n",
    "        print('starting i')\n",
    "        for j, movie2 in enumerate(movie_lengths):  #TODO - check if len() or len() - 1\n",
    "            sumtime = movie + movie2\n",
    "            print(sumtime)\n",
    "            if sumtime == flight_length:\n",
    "                return True\n",
    "                       \n",
    "    return False\n",
    "                       \n",
    "movie_lengths = [92,101,100,122,135,87,94,78,103,120,165]\n",
    "flight_length = 191\n",
    "\n",
    "print(my_function(flight_length, movie_lengths))\n"
   ]
  },
  {
   "cell_type": "code",
   "execution_count": null,
   "metadata": {
    "collapsed": true
   },
   "outputs": [],
   "source": []
  }
 ],
 "metadata": {
  "kernelspec": {
   "display_name": "Python 3",
   "language": "python",
   "name": "python3"
  },
  "language_info": {
   "codemirror_mode": {
    "name": "ipython",
    "version": 3
   },
   "file_extension": ".py",
   "mimetype": "text/x-python",
   "name": "python",
   "nbconvert_exporter": "python",
   "pygments_lexer": "ipython3",
   "version": "3.5.2"
  }
 },
 "nbformat": 4,
 "nbformat_minor": 0
}
